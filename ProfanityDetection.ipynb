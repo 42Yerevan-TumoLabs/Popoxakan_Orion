{
 "cells": [
  {
   "cell_type": "code",
   "execution_count": 13,
   "id": "a0367c0d",
   "metadata": {},
   "outputs": [
    {
     "name": "stdout",
     "output_type": "stream",
     "text": [
      "Text does not contain profanity\n",
      "Text contains profanity\n"
     ]
    }
   ],
   "source": [
    "import pandas as pd \n",
    "\n",
    "data = pd.read_csv(\"C:/Users/Anyone/Downloads/profanity_en.csv\", usecols=[0], names=['words'], skiprows=1)\n",
    "\n",
    "profane_words = data['words'].tolist()\n",
    "\n",
    "def check_profanity(text):\n",
    "    text_words = text.split(\" \")\n",
    "    for word in text_words: \n",
    "        if word.lower() in profane_words:\n",
    "            return True\n",
    "    return False\n",
    "\n",
    "text = \"This is some sample text\"\n",
    "if check_profanity(text):\n",
    "    print(\"Text contains profanity\")\n",
    "else: \n",
    "    print(\"Text does not contain profanity\")\n",
    "    \n",
    "text = \"This text contains shit\"  \n",
    "if check_profanity(text):\n",
    "    print(\"Text contains profanity\")\n",
    "else: \n",
    "    print(\"Text does not contain profanity\")"
   ]
  }
 ],
 "metadata": {
  "kernelspec": {
   "display_name": "Python 3 (ipykernel)",
   "language": "python",
   "name": "python3"
  },
  "language_info": {
   "codemirror_mode": {
    "name": "ipython",
    "version": 3
   },
   "file_extension": ".py",
   "mimetype": "text/x-python",
   "name": "python",
   "nbconvert_exporter": "python",
   "pygments_lexer": "ipython3",
   "version": "3.10.9"
  }
 },
 "nbformat": 4,
 "nbformat_minor": 5
}
