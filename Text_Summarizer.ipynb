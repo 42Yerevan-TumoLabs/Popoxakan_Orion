{
 "cells": [
  {
   "cell_type": "code",
   "execution_count": 2,
   "id": "eca8da14",
   "metadata": {},
   "outputs": [
    {
     "name": "stdout",
     "output_type": "stream",
     "text": [
      "The deficit for the 2019 fiscal year, which ended on Sept. 30, ballooned by 26 percent from the previous year, according to the Treasury Department. It dwarfs last year’s $684 billion shortfall. The growing deficit totals come despite a relatively healthy economy and low unemployment rate.\n"
     ]
    }
   ],
   "source": [
    "from transformers import pipeline\n",
    "\n",
    "pipe = pipeline(\"text2text-generation\", model=\"facebook/bart-large-cnn\")\n",
    "\n",
    "text = '''The U.S. budget deficit totaled $779 billion for 2019, the White House announced on Friday, marking the largest shortfall in seven years.The deficit for the 2019 fiscal year, which ended on Sept. 30, ballooned by 26 percent from the previous year, according to the Treasury Department. It dwarfs last year’s $684 billion shortfall.\n",
    "The growing deficit totals come despite a relatively healthy economy and low unemployment rate. Meanwhile, Congress and the White House have enacted tax cuts and spending increases after a decade of austerity.\n",
    "Furthermore, sharp increases in federal spending — on health care, defense and interest on the debt — have outpaced revenue growth from taxes and other sources.'''\n",
    "\n",
    "summary = pipe(text)[0]['generated_text']\n",
    "\n",
    "print(summary)"
   ]
  },
  {
   "cell_type": "code",
   "execution_count": null,
   "id": "68e06e73",
   "metadata": {},
   "outputs": [],
   "source": []
  }
 ],
 "metadata": {
  "kernelspec": {
   "display_name": "Python 3 (ipykernel)",
   "language": "python",
   "name": "python3"
  },
  "language_info": {
   "codemirror_mode": {
    "name": "ipython",
    "version": 3
   },
   "file_extension": ".py",
   "mimetype": "text/x-python",
   "name": "python",
   "nbconvert_exporter": "python",
   "pygments_lexer": "ipython3",
   "version": "3.10.9"
  }
 },
 "nbformat": 4,
 "nbformat_minor": 5
}
